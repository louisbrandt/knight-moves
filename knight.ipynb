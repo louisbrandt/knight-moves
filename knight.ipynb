{
 "cells": [
  {
   "cell_type": "markdown",
   "metadata": {},
   "source": [
    "## Data generation notebook \n"
   ]
  },
  {
   "cell_type": "code",
   "execution_count": 1,
   "metadata": {},
   "outputs": [],
   "source": [
    "import numpy as np\n",
    "import pandas as pd\n",
    "import random\n",
    "from tqdm import tqdm\n",
    "from sklearn.preprocessing import normalize"
   ]
  },
  {
   "cell_type": "code",
   "execution_count": 2,
   "metadata": {},
   "outputs": [],
   "source": [
    "Xs = ['a','b','c','d','e','f','g','h',]\n",
    "Ys = ['1','2','3','4','5','6','7','8']"
   ]
  },
  {
   "cell_type": "code",
   "execution_count": 3,
   "metadata": {},
   "outputs": [],
   "source": [
    "def valid(n):\n",
    "    if n >= 0 and n <=7:\n",
    "        return True\n",
    "    return False"
   ]
  },
  {
   "cell_type": "code",
   "execution_count": 4,
   "metadata": {},
   "outputs": [],
   "source": [
    "class Board():\n",
    "    def __init__(self):\n",
    "        self.squares = np.zeros((8,8),dtype=int)\n",
    "    \n",
    "    def show(self):\n",
    "        print(self.squares)\n",
    "    \n",
    "    def format(self,square):\n",
    "        self.squarecount = [[None,None] for _ in range(64)]\n",
    "        n = 0\n",
    "        for i in range(8):\n",
    "            for j in range(8):\n",
    "                if j==square[0] and i==square[1]: # HIGHLIGHT \n",
    "                    self.hi = n\n",
    "                self.squarecount[n][0]= str(Xs[j]+Ys[i])            \n",
    "                self.squarecount[n][1]= self.squares[i][j]   \n",
    "                n+=1         \n",
    "\n",
    "    def highlight(self):\n",
    "        self.h = np.zeros(64,dtype=int)\n",
    "        n=0\n",
    "        for i in range(8):\n",
    "            for j in range(8):\n",
    "                if (i+j) % 2 == 0:\n",
    "                    self.h[n] = 1\n",
    "                n+=1\n",
    "        self.h[self.hi] = -1\n",
    "        return self.h\n",
    "\n",
    "    def normalise(self):\n",
    "        self.norm = normalize(np.array(self.squarecount)[:,-1].reshape(-1,1),axis=0)\n",
    "        return self.norm.flatten()\n"
   ]
  },
  {
   "cell_type": "code",
   "execution_count": null,
   "metadata": {},
   "outputs": [],
   "source": [
    "class Piece():\n",
    "    def __init__(self,type,start):\n",
    "        self.type = type\n",
    "        self.start = start\n",
    "        self.pos = start\n",
    "\n",
    "    def move(self, to):\n",
    "        self.pos = to\n",
    "\n",
    "    def possible_moves(self):\n",
    "        if self.type == 'kn':\n",
    "            return self.k_possible_moves()\n",
    "    \n",
    "    def k_possible_moves(self):\n",
    "        moves = []\n",
    "        # nice way of calculating where the knight can move to with pythagoras, inspired by https://levelup.gitconnected.com/chess-python-ca4532c7f5a4\n",
    "        for i in range(-2, 3):\n",
    "            for j in range(-2, 3):\n",
    "                if i ** 2 + j ** 2 == 5:\n",
    "                    if valid(self.pos[0]+i) and valid(self.pos[1]+j):\n",
    "                        moves.append((self.pos[0]+i,self.pos[1]+j))\n",
    "        return moves"
   ]
  },
  {
   "cell_type": "code",
   "execution_count": null,
   "metadata": {},
   "outputs": [],
   "source": [
    "def random_walk(n,b,p):\n",
    "    for _ in tqdm(range(n)):\n",
    "        p.move(random.choice(p.possible_moves()))\n",
    "        b.squares[yg.pos[0]][yg.pos[1]]+= 1"
   ]
  },
  {
   "cell_type": "code",
   "execution_count": null,
   "metadata": {},
   "outputs": [],
   "source": [
    "walks = ['50','100','500','1000','5000','10000','50000','100000','500000','1000000','10000000']\n",
    "c = ['id','highlight']\n",
    "data = pd.DataFrame(columns=c+walks)\n",
    "yg = Piece('kn',(random.choice(range(8)),random.choice(range(8))))\n",
    "for walklen in tqdm(walks):\n",
    "    board = Board()\n",
    "    random_walk(int(walklen),board,yg)\n",
    "    board.format(yg.start)\n",
    "    data[walklen]= board.normalise()\n",
    "\n",
    "data['id'] = data.index + 1\n",
    "data['highlight'] = board.highlight()"
   ]
  },
  {
   "cell_type": "code",
   "execution_count": null,
   "metadata": {},
   "outputs": [],
   "source": [
    "data"
   ]
  },
  {
   "cell_type": "code",
   "execution_count": null,
   "metadata": {},
   "outputs": [],
   "source": [
    "data.to_csv(f'kn.csv',index=False)"
   ]
  }
 ],
 "metadata": {
  "interpreter": {
   "hash": "ad2bdc8ecc057115af97d19610ffacc2b4e99fae6737bb82f5d7fb13d2f2c186"
  },
  "kernelspec": {
   "display_name": "Python 3.8.5 ('base')",
   "language": "python",
   "name": "python3"
  },
  "language_info": {
   "codemirror_mode": {
    "name": "ipython",
    "version": 3
   },
   "file_extension": ".py",
   "mimetype": "text/x-python",
   "name": "python",
   "nbconvert_exporter": "python",
   "pygments_lexer": "ipython3",
   "version": "3.8.5"
  },
  "orig_nbformat": 4
 },
 "nbformat": 4,
 "nbformat_minor": 2
}
